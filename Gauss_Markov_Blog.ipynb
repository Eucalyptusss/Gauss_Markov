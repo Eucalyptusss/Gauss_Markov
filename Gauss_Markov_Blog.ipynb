{
 "cells": [
  {
   "cell_type": "markdown",
   "metadata": {},
   "source": [
    "# An Investigation Into Gauss Markov Assumptions"
   ]
  },
  {
   "cell_type": "code",
   "execution_count": 1,
   "metadata": {},
   "outputs": [],
   "source": [
    "import pandas as pd\n",
    "import matplotlib.pyplot as plt\n",
    "import numpy as np\n",
    "from sklearn.linear_model import LinearRegression\n",
    "from sklearn.preprocessing import (\n",
    "    OneHotEncoder, PolynomialFeatures, StandardScaler)\n",
    "from sklearn.metrics import mean_absolute_error\n",
    "from sklearn.model_selection import cross_val_score, KFold\n",
    "import seaborn as sns\n",
    "from sklearn.model_selection import (\n",
    "    cross_val_score, KFold, train_test_split,\n",
    "    cross_validate, ShuffleSplit)\n",
    "import scipy.stats as stats\n",
    "from itertools import combinations\n",
    "import statsmodels.api as sm\n",
    "from statsmodels.regression import linear_model\n",
    "from statsmodels.stats.outliers_influence import variance_inflation_factor\n",
    "from IPython.display import Image\n",
    "import seaborn as sns \n",
    "import matplotlib.pyplot as plt\n",
    "import statsmodels.stats.api as sms\n",
    "import scipy.stats\n",
    "import random"
   ]
  },
  {
   "cell_type": "code",
   "execution_count": 2,
   "metadata": {
    "scrolled": true
   },
   "outputs": [],
   "source": [
    "og_df = pd.read_csv('data/kc_house_data.csv')"
   ]
  },
  {
   "cell_type": "code",
   "execution_count": 3,
   "metadata": {},
   "outputs": [
    {
     "name": "stdout",
     "output_type": "stream",
     "text": [
      "<class 'pandas.core.frame.DataFrame'>\n",
      "RangeIndex: 21597 entries, 0 to 21596\n",
      "Data columns (total 21 columns):\n",
      " #   Column         Non-Null Count  Dtype  \n",
      "---  ------         --------------  -----  \n",
      " 0   id             21597 non-null  int64  \n",
      " 1   date           21597 non-null  object \n",
      " 2   price          21597 non-null  float64\n",
      " 3   bedrooms       21597 non-null  int64  \n",
      " 4   bathrooms      21597 non-null  float64\n",
      " 5   sqft_living    21597 non-null  int64  \n",
      " 6   sqft_lot       21597 non-null  int64  \n",
      " 7   floors         21597 non-null  float64\n",
      " 8   waterfront     19221 non-null  float64\n",
      " 9   view           21534 non-null  float64\n",
      " 10  condition      21597 non-null  int64  \n",
      " 11  grade          21597 non-null  int64  \n",
      " 12  sqft_above     21597 non-null  int64  \n",
      " 13  sqft_basement  21597 non-null  object \n",
      " 14  yr_built       21597 non-null  int64  \n",
      " 15  yr_renovated   17755 non-null  float64\n",
      " 16  zipcode        21597 non-null  int64  \n",
      " 17  lat            21597 non-null  float64\n",
      " 18  long           21597 non-null  float64\n",
      " 19  sqft_living15  21597 non-null  int64  \n",
      " 20  sqft_lot15     21597 non-null  int64  \n",
      "dtypes: float64(8), int64(11), object(2)\n",
      "memory usage: 3.5+ MB\n"
     ]
    }
   ],
   "source": [
    "og_df.info()"
   ]
  },
  {
   "cell_type": "markdown",
   "metadata": {},
   "source": [
    "# Clean"
   ]
  },
  {
   "cell_type": "code",
   "execution_count": 4,
   "metadata": {},
   "outputs": [],
   "source": [
    "og_df['waterfront'].fillna(0.0,inplace=True)"
   ]
  },
  {
   "cell_type": "code",
   "execution_count": 5,
   "metadata": {},
   "outputs": [],
   "source": [
    "og_df['view'].fillna(0.0,inplace=True)"
   ]
  },
  {
   "cell_type": "code",
   "execution_count": 6,
   "metadata": {},
   "outputs": [],
   "source": [
    "vals = []\n",
    "for i in range(len(og_df)):\n",
    "    if np.isnan(og_df['yr_renovated'].iloc[i]):\n",
    "        vals.append(0)\n",
    "    elif og_df['yr_renovated'].iloc[i] == 0:\n",
    "        vals.append(0)\n",
    "    elif og_df['yr_renovated'].iloc[i] > 0:\n",
    "        vals.append(1)\n",
    "        "
   ]
  },
  {
   "cell_type": "code",
   "execution_count": 7,
   "metadata": {},
   "outputs": [],
   "source": [
    "og_df['is_renovated'] = vals"
   ]
  },
  {
   "cell_type": "code",
   "execution_count": 8,
   "metadata": {},
   "outputs": [],
   "source": [
    "og_df = og_df.drop(columns=['yr_renovated'])"
   ]
  },
  {
   "cell_type": "code",
   "execution_count": 9,
   "metadata": {},
   "outputs": [],
   "source": [
    "og_df['date'] = og_df['date'].astype(object)"
   ]
  },
  {
   "cell_type": "code",
   "execution_count": 10,
   "metadata": {},
   "outputs": [
    {
     "name": "stdout",
     "output_type": "stream",
     "text": [
      "<class 'pandas.core.frame.DataFrame'>\n",
      "RangeIndex: 21597 entries, 0 to 21596\n",
      "Data columns (total 21 columns):\n",
      " #   Column         Non-Null Count  Dtype  \n",
      "---  ------         --------------  -----  \n",
      " 0   id             21597 non-null  int64  \n",
      " 1   date           21597 non-null  object \n",
      " 2   price          21597 non-null  float64\n",
      " 3   bedrooms       21597 non-null  int64  \n",
      " 4   bathrooms      21597 non-null  float64\n",
      " 5   sqft_living    21597 non-null  int64  \n",
      " 6   sqft_lot       21597 non-null  int64  \n",
      " 7   floors         21597 non-null  float64\n",
      " 8   waterfront     21597 non-null  float64\n",
      " 9   view           21597 non-null  float64\n",
      " 10  condition      21597 non-null  int64  \n",
      " 11  grade          21597 non-null  int64  \n",
      " 12  sqft_above     21597 non-null  int64  \n",
      " 13  sqft_basement  21597 non-null  object \n",
      " 14  yr_built       21597 non-null  int64  \n",
      " 15  zipcode        21597 non-null  int64  \n",
      " 16  lat            21597 non-null  float64\n",
      " 17  long           21597 non-null  float64\n",
      " 18  sqft_living15  21597 non-null  int64  \n",
      " 19  sqft_lot15     21597 non-null  int64  \n",
      " 20  is_renovated   21597 non-null  int64  \n",
      "dtypes: float64(7), int64(12), object(2)\n",
      "memory usage: 3.5+ MB\n"
     ]
    }
   ],
   "source": [
    "og_df.info()"
   ]
  },
  {
   "cell_type": "markdown",
   "metadata": {},
   "source": [
    "# Train Test Split"
   ]
  },
  {
   "cell_type": "code",
   "execution_count": 11,
   "metadata": {},
   "outputs": [
    {
     "data": {
      "text/plain": [
       "((16197, 20), (5400, 20), (16197,), (5400,))"
      ]
     },
     "execution_count": 11,
     "metadata": {},
     "output_type": "execute_result"
    }
   ],
   "source": [
    "y = og_df['price']\n",
    "X = og_df.drop(columns = 'price')\n",
    "\n",
    "X_train, X_test, y_train, y_test = train_test_split(X,y,random_state=42)\n",
    "X_train.shape, X_test.shape, y_train.shape, y_test.shape"
   ]
  },
  {
   "cell_type": "markdown",
   "metadata": {},
   "source": [
    "# Correlation Inspection"
   ]
  },
  {
   "cell_type": "code",
   "execution_count": 12,
   "metadata": {},
   "outputs": [
    {
     "data": {
      "image/png": "[encoded data removed]",
      "text/plain": [
       "<Figure size 1080x1728 with 2 Axes>"
      ]
     },
     "metadata": {
      "needs_background": "light"
     },
     "output_type": "display_data"
    }
   ],
   "source": [
    "heatmap_data = pd.concat([y_train, X_train], axis=1)\n",
    "corr = heatmap_data.corr().abs()\n",
    "\n",
    "# Set up figure and axes\n",
    "fig, ax = plt.subplots(figsize=(15, 24))\n",
    "\n",
    "# Plot a heatmap of the correlation matrix, with both\n",
    "# numbers and colors indicating the correlations\n",
    "sns.heatmap(\n",
    "    cmap='Reds',\n",
    "    # Specifies the data to be plotted\n",
    "    data=corr,\n",
    "    # The mask means we only show half the values,\n",
    "    # instead of showing duplicates. It's optional.\n",
    "    mask=np.triu(np.ones_like(corr, dtype=bool)),\n",
    "    # Specifies that we should use the existing axes\n",
    "    ax=ax,\n",
    "    # Specifies that we want labels, not just colors\n",
    "    annot=True,\n",
    "    # Customizes colorbar appearance\n",
    "    cbar_kws={\"label\": \"Correlation\", \"orientation\": \"horizontal\", \"pad\": .2, \"extend\": \"both\"}\n",
    ")\n",
    "\n",
    "# Customize the plot appearance\n",
    "ax.set_title(\"Heatmap of Correlation Between Attributes (Including Target)\");\n",
    "\n"
   ]
  },
  {
   "cell_type": "markdown",
   "metadata": {},
   "source": [
    "# Baseline Model"
   ]
  },
  {
   "cell_type": "code",
   "execution_count": 13,
   "metadata": {},
   "outputs": [
    {
     "data": {
      "text/plain": [
       "price            1.000000\n",
       "bathrooms        0.529906\n",
       "sqft_living      0.700397\n",
       "grade            0.671702\n",
       "sqft_above       0.601355\n",
       "sqft_living15    0.591150\n",
       "Name: price, dtype: float64"
      ]
     },
     "execution_count": 13,
     "metadata": {},
     "output_type": "execute_result"
    }
   ],
   "source": [
    "#Most Correlated Features to Price\n",
    "cor = og_df.corr()\n",
    "cor_target = abs(corr['price'])\n",
    "relevant_features = cor_target[cor_target>.5]\n",
    "relevant_features"
   ]
  },
  {
   "cell_type": "code",
   "execution_count": 14,
   "metadata": {},
   "outputs": [],
   "source": [
    "most_correlated_features = ['sqft_living', 'bathrooms', 'grade']"
   ]
  },
  {
   "cell_type": "code",
   "execution_count": 15,
   "metadata": {},
   "outputs": [],
   "source": [
    "baseline_model = LinearRegression()\n",
    "baseline_model.fit(X_train[most_correlated_features], y_train)\n",
    "y_pred_train = baseline_model.predict(X_train[most_correlated_features])\n",
    "y_pred_test = baseline_model.predict(X_test[most_correlated_features])\n",
    "\n",
    "#R^2\n",
    "baseline_r_train = baseline_model.score(X_train[most_correlated_features], y_train)\n",
    "baseline_r_test = baseline_model.score(X_test[most_correlated_features], y_test)\n",
    "#MAE\n",
    "baseline_mae_train = mean_absolute_error(y_train, y_pred_train)\n",
    "baseline_mae_test = mean_absolute_error(y_test, y_pred_test)"
   ]
  },
  {
   "cell_type": "code",
   "execution_count": 16,
   "metadata": {},
   "outputs": [
    {
     "name": "stdout",
     "output_type": "stream",
     "text": [
      "Baseline Model\n",
      "R^2 for train: 0.5382654395652808\n",
      "R^2 for test: 0.5342925077446794\n",
      "MAE for train: 163935.8173393085\n",
      "MAE for test: 162201.2435837135\n"
     ]
    }
   ],
   "source": [
    "print(\"Baseline Model\")\n",
    "print(\"R^2 for train:\", baseline_r_train)\n",
    "print(\"R^2 for test:\", baseline_r_test)\n",
    "print(\"MAE for train:\", baseline_mae_train)\n",
    "print(\"MAE for test:\", baseline_mae_test)"
   ]
  },
  {
   "cell_type": "code",
   "execution_count": 17,
   "metadata": {},
   "outputs": [
    {
     "data": {
      "text/html": [
       "<table class=\"simpletable\">\n",
       "<caption>OLS Regression Results</caption>\n",
       "<tr>\n",
       "  <th>Dep. Variable:</th>          <td>price</td>      <th>  R-squared:         </th>  <td>   0.538</td>  \n",
       "</tr>\n",
       "<tr>\n",
       "  <th>Model:</th>                   <td>OLS</td>       <th>  Adj. R-squared:    </th>  <td>   0.538</td>  \n",
       "</tr>\n",
       "<tr>\n",
       "  <th>Method:</th>             <td>Least Squares</td>  <th>  F-statistic:       </th>  <td>   6292.</td>  \n",
       "</tr>\n",
       "<tr>\n",
       "  <th>Date:</th>             <td>Wed, 25 Aug 2021</td> <th>  Prob (F-statistic):</th>   <td>  0.00</td>   \n",
       "</tr>\n",
       "<tr>\n",
       "  <th>Time:</th>                 <td>17:51:02</td>     <th>  Log-Likelihood:    </th> <td>-2.2423e+05</td>\n",
       "</tr>\n",
       "<tr>\n",
       "  <th>No. Observations:</th>      <td> 16197</td>      <th>  AIC:               </th>  <td>4.485e+05</td> \n",
       "</tr>\n",
       "<tr>\n",
       "  <th>Df Residuals:</th>          <td> 16193</td>      <th>  BIC:               </th>  <td>4.485e+05</td> \n",
       "</tr>\n",
       "<tr>\n",
       "  <th>Df Model:</th>              <td>     3</td>      <th>                     </th>      <td> </td>     \n",
       "</tr>\n",
       "<tr>\n",
       "  <th>Covariance Type:</th>      <td>nonrobust</td>    <th>                     </th>      <td> </td>     \n",
       "</tr>\n",
       "</table>\n",
       "<table class=\"simpletable\">\n",
       "<tr>\n",
       "       <td></td>          <th>coef</th>     <th>std err</th>      <th>t</th>      <th>P>|t|</th>  <th>[0.025</th>    <th>0.975]</th>  \n",
       "</tr>\n",
       "<tr>\n",
       "  <th>const</th>       <td>-6.212e+05</td> <td> 1.53e+04</td> <td>  -40.469</td> <td> 0.000</td> <td>-6.51e+05</td> <td>-5.91e+05</td>\n",
       "</tr>\n",
       "<tr>\n",
       "  <th>sqft_living</th> <td>  197.4547</td> <td>    3.857</td> <td>   51.190</td> <td> 0.000</td> <td>  189.894</td> <td>  205.015</td>\n",
       "</tr>\n",
       "<tr>\n",
       "  <th>bathrooms</th>   <td>-3.587e+04</td> <td> 4000.168</td> <td>   -8.967</td> <td> 0.000</td> <td>-4.37e+04</td> <td> -2.8e+04</td>\n",
       "</tr>\n",
       "<tr>\n",
       "  <th>grade</th>       <td>  1.08e+05</td> <td> 2639.922</td> <td>   40.901</td> <td> 0.000</td> <td> 1.03e+05</td> <td> 1.13e+05</td>\n",
       "</tr>\n",
       "</table>\n",
       "<table class=\"simpletable\">\n",
       "<tr>\n",
       "  <th>Omnibus:</th>       <td>11793.849</td> <th>  Durbin-Watson:     </th>  <td>   1.996</td> \n",
       "</tr>\n",
       "<tr>\n",
       "  <th>Prob(Omnibus):</th>  <td> 0.000</td>   <th>  Jarque-Bera (JB):  </th> <td>503921.998</td>\n",
       "</tr>\n",
       "<tr>\n",
       "  <th>Skew:</th>           <td> 3.036</td>   <th>  Prob(JB):          </th>  <td>    0.00</td> \n",
       "</tr>\n",
       "<tr>\n",
       "  <th>Kurtosis:</th>       <td>29.642</td>   <th>  Cond. No.          </th>  <td>1.81e+04</td> \n",
       "</tr>\n",
       "</table><br/><br/>Notes:<br/>[1] Standard Errors assume that the covariance matrix of the errors is correctly specified.<br/>[2] The condition number is large, 1.81e+04. This might indicate that there are<br/>strong multicollinearity or other numerical problems."
      ],
      "text/plain": [
       "<class 'statsmodels.iolib.summary.Summary'>\n",
       "\"\"\"\n",
       "                            OLS Regression Results                            \n",
       "==============================================================================\n",
       "Dep. Variable:                  price   R-squared:                       0.538\n",
       "Model:                            OLS   Adj. R-squared:                  0.538\n",
       "Method:                 Least Squares   F-statistic:                     6292.\n",
       "Date:                Wed, 25 Aug 2021   Prob (F-statistic):               0.00\n",
       "Time:                        17:51:02   Log-Likelihood:            -2.2423e+05\n",
       "No. Observations:               16197   AIC:                         4.485e+05\n",
       "Df Residuals:                   16193   BIC:                         4.485e+05\n",
       "Df Model:                           3                                         \n",
       "Covariance Type:            nonrobust                                         \n",
       "===============================================================================\n",
       "                  coef    std err          t      P>|t|      [0.025      0.975]\n",
       "-------------------------------------------------------------------------------\n",
       "const       -6.212e+05   1.53e+04    -40.469      0.000   -6.51e+05   -5.91e+05\n",
       "sqft_living   197.4547      3.857     51.190      0.000     189.894     205.015\n",
       "bathrooms   -3.587e+04   4000.168     -8.967      0.000   -4.37e+04    -2.8e+04\n",
       "grade         1.08e+05   2639.922     40.901      0.000    1.03e+05    1.13e+05\n",
       "==============================================================================\n",
       "Omnibus:                    11793.849   Durbin-Watson:                   1.996\n",
       "Prob(Omnibus):                  0.000   Jarque-Bera (JB):           503921.998\n",
       "Skew:                           3.036   Prob(JB):                         0.00\n",
       "Kurtosis:                      29.642   Cond. No.                     1.81e+04\n",
       "==============================================================================\n",
       "\n",
       "Notes:\n",
       "[1] Standard Errors assume that the covariance matrix of the errors is correctly specified.\n",
       "[2] The condition number is large, 1.81e+04. This might indicate that there are\n",
       "strong multicollinearity or other numerical problems.\n",
       "\"\"\""
      ]
     },
     "execution_count": 17,
     "metadata": {},
     "output_type": "execute_result"
    }
   ],
   "source": [
    "X = sm.add_constant(X_train[most_correlated_features])\n",
    "baseline_sum = sm.OLS(y_train, X).fit()\n",
    "baseline_sum.summary()"
   ]
  },
  {
   "cell_type": "code",
   "execution_count": 18,
   "metadata": {},
   "outputs": [
    {
     "data": {
      "text/plain": [
       "108000.0"
      ]
     },
     "execution_count": 18,
     "metadata": {},
     "output_type": "execute_result"
    }
   ],
   "source": [
    "1.08e+05"
   ]
  },
  {
   "cell_type": "code",
   "execution_count": 19,
   "metadata": {},
   "outputs": [
    {
     "name": "stderr",
     "output_type": "stream",
     "text": [
      "<ipython-input-19-5ed29d78fedd>:4: UserWarning: Matplotlib is currently using module://ipykernel.pylab.backend_inline, which is a non-GUI backend, so cannot show the figure.\n",
      "  fig.show()\n"
     ]
    },
    {
     "data": {
      "image/png": "[encoded data removed]",
      "text/plain": [
       "<Figure size 432x288 with 1 Axes>"
      ]
     },
     "metadata": {
      "needs_background": "light"
     },
     "output_type": "display_data"
    }
   ],
   "source": [
    "residuals = baseline_sum.resid\n",
    "fig = sm.graphics.qqplot(residuals, dist=stats.norm, \n",
    "                        line = '45', fit=True)\n",
    "fig.show()"
   ]
  },
  {
   "cell_type": "markdown",
   "metadata": {},
   "source": [
    "# Linearity:\n",
    "The parameters we are estimating using the OLS method must be themselves linear.\n",
    "source(https://www.statisticshowto.com/gauss-markov-theorem-assumptions/)"
   ]
  },
  {
   "cell_type": "code",
   "execution_count": 20,
   "metadata": {},
   "outputs": [
    {
     "data": {
      "text/plain": [
       "id              0.019919\n",
       "sqft_lot        0.089019\n",
       "condition       0.046139\n",
       "yr_built        0.046835\n",
       "zipcode         0.047865\n",
       "long            0.019459\n",
       "sqft_lot15      0.080682\n",
       "is_renovated    0.116289\n",
       "Name: price, dtype: float64"
      ]
     },
     "execution_count": 20,
     "metadata": {},
     "output_type": "execute_result"
    }
   ],
   "source": [
    "cor = og_df.corr()\n",
    "cor_target = abs(corr['price'])\n",
    "cor_target[cor_target<.25]\n"
   ]
  },
  {
   "cell_type": "markdown",
   "metadata": {},
   "source": [
    "## I will add the long variable to our independent variables to the baseline model to see how the model is affected."
   ]
  },
  {
   "cell_type": "code",
   "execution_count": 21,
   "metadata": {
    "scrolled": true
   },
   "outputs": [
    {
     "data": {
      "text/plain": [
       "Text(0, 0.5, 'Price (USD)')"
      ]
     },
     "execution_count": 21,
     "metadata": {},
     "output_type": "execute_result"
    },
    {
     "data": {
      "image/png": "[encoded data removed]",
      "text/plain": [
       "<Figure size 432x288 with 1 Axes>"
      ]
     },
     "metadata": {
      "needs_background": "light"
     },
     "output_type": "display_data"
    }
   ],
   "source": [
    "plt.scatter(x=og_df['long'],y=og_df['price'])\n",
    "plt.xlabel('Longitude')\n",
    "plt.ylabel('Price (USD)')"
   ]
  },
  {
   "cell_type": "code",
   "execution_count": 22,
   "metadata": {},
   "outputs": [],
   "source": [
    "non_linear_feat = most_correlated_features\n",
    "non_linear_feat.append('long')"
   ]
  },
  {
   "cell_type": "code",
   "execution_count": 23,
   "metadata": {},
   "outputs": [
    {
     "data": {
      "text/plain": [
       "['sqft_living', 'bathrooms', 'grade', 'long']"
      ]
     },
     "execution_count": 23,
     "metadata": {},
     "output_type": "execute_result"
    }
   ],
   "source": [
    "non_linear_feat"
   ]
  },
  {
   "cell_type": "code",
   "execution_count": 24,
   "metadata": {},
   "outputs": [],
   "source": [
    "non_linear_model = LinearRegression()\n",
    "non_linear_model.fit(X_train[non_linear_feat], y_train)\n",
    "y_pred_train = non_linear_model.predict(X_train[non_linear_feat])\n",
    "y_pred_test = non_linear_model.predict(X_test[non_linear_feat])\n",
    "\n",
    "#R^2\n",
    "non_linear_r_train = non_linear_model.score(X_train[non_linear_feat], y_train)\n",
    "non_linear_r_test = non_linear_model.score(X_test[non_linear_feat], y_test)\n",
    "#MAE\n",
    "non_linear_mae_train = mean_absolute_error(y_train, y_pred_train)\n",
    "non_linear_mae_test = mean_absolute_error(y_test, y_pred_test)"
   ]
  },
  {
   "cell_type": "code",
   "execution_count": 25,
   "metadata": {},
   "outputs": [
    {
     "name": "stdout",
     "output_type": "stream",
     "text": [
      "Baseline Model\n",
      "R^2 for train: 0.5382654395652808\n",
      "R^2 for test: 0.5342925077446794\n",
      "MAE for train: 163935.8173393085\n",
      "MAE for test: 162201.2435837135\n",
      "Non-Linear Model\n",
      "R^2 for train: 0.5627782214660296\n",
      "R^2 for test: 0.5559327168774042\n",
      "MAE for train: 159179.28217524564\n",
      "MAE for test: 157539.58707101803\n"
     ]
    }
   ],
   "source": [
    "print(\"Baseline Model\")\n",
    "print(\"R^2 for train:\", baseline_r_train)\n",
    "print(\"R^2 for test:\", baseline_r_test)\n",
    "print(\"MAE for train:\", baseline_mae_train)\n",
    "print(\"MAE for test:\", baseline_mae_test)\n",
    "\n",
    "print(\"Non-Linear Model\")\n",
    "print(\"R^2 for train:\", non_linear_r_train)\n",
    "print(\"R^2 for test:\", non_linear_r_test)\n",
    "print(\"MAE for train:\", non_linear_mae_train)\n",
    "print(\"MAE for test:\", non_linear_mae_test)"
   ]
  },
  {
   "cell_type": "code",
   "execution_count": 26,
   "metadata": {},
   "outputs": [
    {
     "data": {
      "text/html": [
       "<table class=\"simpletable\">\n",
       "<caption>OLS Regression Results</caption>\n",
       "<tr>\n",
       "  <th>Dep. Variable:</th>          <td>price</td>      <th>  R-squared:         </th>  <td>   0.563</td>  \n",
       "</tr>\n",
       "<tr>\n",
       "  <th>Model:</th>                   <td>OLS</td>       <th>  Adj. R-squared:    </th>  <td>   0.563</td>  \n",
       "</tr>\n",
       "<tr>\n",
       "  <th>Method:</th>             <td>Least Squares</td>  <th>  F-statistic:       </th>  <td>   5210.</td>  \n",
       "</tr>\n",
       "<tr>\n",
       "  <th>Date:</th>             <td>Wed, 25 Aug 2021</td> <th>  Prob (F-statistic):</th>   <td>  0.00</td>   \n",
       "</tr>\n",
       "<tr>\n",
       "  <th>Time:</th>                 <td>17:51:03</td>     <th>  Log-Likelihood:    </th> <td>-2.2379e+05</td>\n",
       "</tr>\n",
       "<tr>\n",
       "  <th>No. Observations:</th>      <td> 16197</td>      <th>  AIC:               </th>  <td>4.476e+05</td> \n",
       "</tr>\n",
       "<tr>\n",
       "  <th>Df Residuals:</th>          <td> 16192</td>      <th>  BIC:               </th>  <td>4.476e+05</td> \n",
       "</tr>\n",
       "<tr>\n",
       "  <th>Df Model:</th>              <td>     4</td>      <th>                     </th>      <td> </td>     \n",
       "</tr>\n",
       "<tr>\n",
       "  <th>Covariance Type:</th>      <td>nonrobust</td>    <th>                     </th>      <td> </td>     \n",
       "</tr>\n",
       "</table>\n",
       "<table class=\"simpletable\">\n",
       "<tr>\n",
       "       <td></td>          <th>coef</th>     <th>std err</th>      <th>t</th>      <th>P>|t|</th>  <th>[0.025</th>    <th>0.975]</th>  \n",
       "</tr>\n",
       "<tr>\n",
       "  <th>const</th>       <td>-5.174e+07</td> <td>  1.7e+06</td> <td>  -30.495</td> <td> 0.000</td> <td>-5.51e+07</td> <td>-4.84e+07</td>\n",
       "</tr>\n",
       "<tr>\n",
       "  <th>sqft_living</th> <td>  207.6034</td> <td>    3.769</td> <td>   55.086</td> <td> 0.000</td> <td>  200.216</td> <td>  214.991</td>\n",
       "</tr>\n",
       "<tr>\n",
       "  <th>bathrooms</th>   <td> -2.95e+04</td> <td> 3898.388</td> <td>   -7.568</td> <td> 0.000</td> <td>-3.71e+04</td> <td>-2.19e+04</td>\n",
       "</tr>\n",
       "<tr>\n",
       "  <th>grade</th>       <td> 1.093e+05</td> <td> 2569.329</td> <td>   42.527</td> <td> 0.000</td> <td> 1.04e+05</td> <td> 1.14e+05</td>\n",
       "</tr>\n",
       "<tr>\n",
       "  <th>long</th>        <td>-4.179e+05</td> <td> 1.39e+04</td> <td>  -30.130</td> <td> 0.000</td> <td>-4.45e+05</td> <td>-3.91e+05</td>\n",
       "</tr>\n",
       "</table>\n",
       "<table class=\"simpletable\">\n",
       "<tr>\n",
       "  <th>Omnibus:</th>       <td>11414.263</td> <th>  Durbin-Watson:     </th>  <td>   2.001</td> \n",
       "</tr>\n",
       "<tr>\n",
       "  <th>Prob(Omnibus):</th>  <td> 0.000</td>   <th>  Jarque-Bera (JB):  </th> <td>480980.844</td>\n",
       "</tr>\n",
       "<tr>\n",
       "  <th>Skew:</th>           <td> 2.890</td>   <th>  Prob(JB):          </th>  <td>    0.00</td> \n",
       "</tr>\n",
       "<tr>\n",
       "  <th>Kurtosis:</th>       <td>29.063</td>   <th>  Cond. No.          </th>  <td>2.03e+06</td> \n",
       "</tr>\n",
       "</table><br/><br/>Notes:<br/>[1] Standard Errors assume that the covariance matrix of the errors is correctly specified.<br/>[2] The condition number is large, 2.03e+06. This might indicate that there are<br/>strong multicollinearity or other numerical problems."
      ],
      "text/plain": [
       "<class 'statsmodels.iolib.summary.Summary'>\n",
       "\"\"\"\n",
       "                            OLS Regression Results                            \n",
       "==============================================================================\n",
       "Dep. Variable:                  price   R-squared:                       0.563\n",
       "Model:                            OLS   Adj. R-squared:                  0.563\n",
       "Method:                 Least Squares   F-statistic:                     5210.\n",
       "Date:                Wed, 25 Aug 2021   Prob (F-statistic):               0.00\n",
       "Time:                        17:51:03   Log-Likelihood:            -2.2379e+05\n",
       "No. Observations:               16197   AIC:                         4.476e+05\n",
       "Df Residuals:                   16192   BIC:                         4.476e+05\n",
       "Df Model:                           4                                         \n",
       "Covariance Type:            nonrobust                                         \n",
       "===============================================================================\n",
       "                  coef    std err          t      P>|t|      [0.025      0.975]\n",
       "-------------------------------------------------------------------------------\n",
       "const       -5.174e+07    1.7e+06    -30.495      0.000   -5.51e+07   -4.84e+07\n",
       "sqft_living   207.6034      3.769     55.086      0.000     200.216     214.991\n",
       "bathrooms    -2.95e+04   3898.388     -7.568      0.000   -3.71e+04   -2.19e+04\n",
       "grade        1.093e+05   2569.329     42.527      0.000    1.04e+05    1.14e+05\n",
       "long        -4.179e+05   1.39e+04    -30.130      0.000   -4.45e+05   -3.91e+05\n",
       "==============================================================================\n",
       "Omnibus:                    11414.263   Durbin-Watson:                   2.001\n",
       "Prob(Omnibus):                  0.000   Jarque-Bera (JB):           480980.844\n",
       "Skew:                           2.890   Prob(JB):                         0.00\n",
       "Kurtosis:                      29.063   Cond. No.                     2.03e+06\n",
       "==============================================================================\n",
       "\n",
       "Notes:\n",
       "[1] Standard Errors assume that the covariance matrix of the errors is correctly specified.\n",
       "[2] The condition number is large, 2.03e+06. This might indicate that there are\n",
       "strong multicollinearity or other numerical problems.\n",
       "\"\"\""
      ]
     },
     "execution_count": 26,
     "metadata": {},
     "output_type": "execute_result"
    }
   ],
   "source": [
    "X = sm.add_constant(X_train[non_linear_feat])\n",
    "non_linear_sum = sm.OLS(y_train, X).fit()\n",
    "non_linear_sum.summary()"
   ]
  },
  {
   "cell_type": "code",
   "execution_count": 27,
   "metadata": {},
   "outputs": [
    {
     "data": {
      "text/plain": [
       "-417900.0"
      ]
     },
     "execution_count": 27,
     "metadata": {},
     "output_type": "execute_result"
    }
   ],
   "source": [
    "-4.179e+05\t"
   ]
  },
  {
   "cell_type": "code",
   "execution_count": 28,
   "metadata": {},
   "outputs": [
    {
     "name": "stderr",
     "output_type": "stream",
     "text": [
      "<ipython-input-28-ec0db1a128b5>:4: UserWarning: Matplotlib is currently using module://ipykernel.pylab.backend_inline, which is a non-GUI backend, so cannot show the figure.\n",
      "  fig.show()\n"
     ]
    },
    {
     "data": {
      "image/png": "[encoded data removed]",
      "text/plain": [
       "<Figure size 432x288 with 1 Axes>"
      ]
     },
     "metadata": {
      "needs_background": "light"
     },
     "output_type": "display_data"
    }
   ],
   "source": [
    "residuals = non_linear_sum.resid\n",
    "fig = sm.graphics.qqplot(residuals, dist=stats.norm, \n",
    "                        line = '45', fit=True)\n",
    "fig.show()"
   ]
  },
  {
   "cell_type": "markdown",
   "metadata": {},
   "source": [
    "# Random:\n",
    "The data must have been randomly sampled from the population."
   ]
  },
  {
   "cell_type": "markdown",
   "metadata": {},
   "source": [
    "## I will remove all houses except those within a certain sqft range."
   ]
  },
  {
   "cell_type": "code",
   "execution_count": 29,
   "metadata": {},
   "outputs": [
    {
     "data": {
      "text/plain": [
       "370"
      ]
     },
     "execution_count": 29,
     "metadata": {},
     "output_type": "execute_result"
    }
   ],
   "source": [
    "og_df.sqft_living.min()"
   ]
  },
  {
   "cell_type": "code",
   "execution_count": 30,
   "metadata": {},
   "outputs": [
    {
     "data": {
      "text/plain": [
       "13540"
      ]
     },
     "execution_count": 30,
     "metadata": {},
     "output_type": "execute_result"
    }
   ],
   "source": [
    "og_df.sqft_living.max()"
   ]
  },
  {
   "cell_type": "markdown",
   "metadata": {},
   "source": [
    "# Train Test Split With Non-Random Data"
   ]
  },
  {
   "cell_type": "code",
   "execution_count": 31,
   "metadata": {},
   "outputs": [
    {
     "data": {
      "text/plain": [
       "((425, 20), (142, 20), (425,), (142,))"
      ]
     },
     "execution_count": 31,
     "metadata": {},
     "output_type": "execute_result"
    }
   ],
   "source": [
    "subset = og_df.loc[(og_df['sqft_living'] < 5000) & \n",
    "              (og_df['sqft_living'] > 4000)]\n",
    "y = subset.price\n",
    "X = subset.drop(columns = 'price')\n",
    "\n",
    "X_train, X_test, y_train, y_test = train_test_split(X,y,random_state=42)\n",
    "X_train.shape, X_test.shape, y_train.shape, y_test.shape"
   ]
  },
  {
   "cell_type": "code",
   "execution_count": 32,
   "metadata": {},
   "outputs": [],
   "source": [
    "most_correlated_features = ['sqft_living', 'bathrooms', 'grade']"
   ]
  },
  {
   "cell_type": "markdown",
   "metadata": {},
   "source": [
    "For the sake of this investigation I will use the same features as the baseline model."
   ]
  },
  {
   "cell_type": "code",
   "execution_count": 33,
   "metadata": {},
   "outputs": [],
   "source": [
    "non_random_model = LinearRegression()\n",
    "non_random_model.fit(X_train[most_correlated_features], y_train)\n",
    "y_pred_train = non_random_model.predict(X_train[most_correlated_features])\n",
    "y_pred_test = non_random_model.predict(X_test[most_correlated_features])\n",
    "\n",
    "#R^2\n",
    "non_random_r_train = non_random_model.score(X_train[most_correlated_features], y_train)\n",
    "non_random_r_test = non_random_model.score(X_test[most_correlated_features], y_test)\n",
    "#MAE\n",
    "non_random_mae_train = mean_absolute_error(y_train, y_pred_train)\n",
    "non_random_mae_test = mean_absolute_error(y_test, y_pred_test)"
   ]
  },
  {
   "cell_type": "code",
   "execution_count": 34,
   "metadata": {},
   "outputs": [
    {
     "name": "stdout",
     "output_type": "stream",
     "text": [
      "Baseline Model\n",
      "R^2 for train: 0.5382654395652808\n",
      "R^2 for test: 0.5342925077446794\n",
      "MAE for train: 163935.8173393085\n",
      "MAE for test: 162201.2435837135\n",
      "Non-Random Model\n",
      "R^2 for train: 0.11562199028406395\n",
      "R^2 for test: 0.2171999132225828\n",
      "MAE for train: 436446.7046323092\n",
      "MAE for test: 438783.89891409536\n"
     ]
    }
   ],
   "source": [
    "print(\"Baseline Model\")\n",
    "print(\"R^2 for train:\", baseline_r_train)\n",
    "print(\"R^2 for test:\", baseline_r_test)\n",
    "print(\"MAE for train:\", baseline_mae_train)\n",
    "print(\"MAE for test:\", baseline_mae_test)\n",
    "\n",
    "print(\"Non-Random Model\")\n",
    "print(\"R^2 for train:\", non_random_r_train)\n",
    "print(\"R^2 for test:\", non_random_r_test)\n",
    "print(\"MAE for train:\", non_random_mae_train)\n",
    "print(\"MAE for test:\", non_random_mae_test)"
   ]
  },
  {
   "cell_type": "code",
   "execution_count": 35,
   "metadata": {},
   "outputs": [
    {
     "data": {
      "text/html": [
       "<table class=\"simpletable\">\n",
       "<caption>OLS Regression Results</caption>\n",
       "<tr>\n",
       "  <th>Dep. Variable:</th>          <td>price</td>      <th>  R-squared:         </th> <td>   0.116</td> \n",
       "</tr>\n",
       "<tr>\n",
       "  <th>Model:</th>                   <td>OLS</td>       <th>  Adj. R-squared:    </th> <td>   0.109</td> \n",
       "</tr>\n",
       "<tr>\n",
       "  <th>Method:</th>             <td>Least Squares</td>  <th>  F-statistic:       </th> <td>   18.35</td> \n",
       "</tr>\n",
       "<tr>\n",
       "  <th>Date:</th>             <td>Wed, 25 Aug 2021</td> <th>  Prob (F-statistic):</th> <td>3.32e-11</td> \n",
       "</tr>\n",
       "<tr>\n",
       "  <th>Time:</th>                 <td>17:51:03</td>     <th>  Log-Likelihood:    </th> <td> -6231.0</td> \n",
       "</tr>\n",
       "<tr>\n",
       "  <th>No. Observations:</th>      <td>   425</td>      <th>  AIC:               </th> <td>1.247e+04</td>\n",
       "</tr>\n",
       "<tr>\n",
       "  <th>Df Residuals:</th>          <td>   421</td>      <th>  BIC:               </th> <td>1.249e+04</td>\n",
       "</tr>\n",
       "<tr>\n",
       "  <th>Df Model:</th>              <td>     3</td>      <th>                     </th>     <td> </td>    \n",
       "</tr>\n",
       "<tr>\n",
       "  <th>Covariance Type:</th>      <td>nonrobust</td>    <th>                     </th>     <td> </td>    \n",
       "</tr>\n",
       "</table>\n",
       "<table class=\"simpletable\">\n",
       "<tr>\n",
       "       <td></td>          <th>coef</th>     <th>std err</th>      <th>t</th>      <th>P>|t|</th>  <th>[0.025</th>    <th>0.975]</th>  \n",
       "</tr>\n",
       "<tr>\n",
       "  <th>const</th>       <td>-1.407e+06</td> <td> 5.12e+05</td> <td>   -2.749</td> <td> 0.006</td> <td>-2.41e+06</td> <td>-4.01e+05</td>\n",
       "</tr>\n",
       "<tr>\n",
       "  <th>sqft_living</th> <td>  188.2528</td> <td>  113.455</td> <td>    1.659</td> <td> 0.098</td> <td>  -34.756</td> <td>  411.262</td>\n",
       "</tr>\n",
       "<tr>\n",
       "  <th>bathrooms</th>   <td>  1.14e+05</td> <td> 4.57e+04</td> <td>    2.492</td> <td> 0.013</td> <td> 2.41e+04</td> <td> 2.04e+05</td>\n",
       "</tr>\n",
       "<tr>\n",
       "  <th>grade</th>       <td>  1.52e+05</td> <td> 2.61e+04</td> <td>    5.827</td> <td> 0.000</td> <td> 1.01e+05</td> <td> 2.03e+05</td>\n",
       "</tr>\n",
       "</table>\n",
       "<table class=\"simpletable\">\n",
       "<tr>\n",
       "  <th>Omnibus:</th>       <td>87.545</td> <th>  Durbin-Watson:     </th> <td>   2.042</td>\n",
       "</tr>\n",
       "<tr>\n",
       "  <th>Prob(Omnibus):</th> <td> 0.000</td> <th>  Jarque-Bera (JB):  </th> <td> 140.766</td>\n",
       "</tr>\n",
       "<tr>\n",
       "  <th>Skew:</th>          <td> 1.276</td> <th>  Prob(JB):          </th> <td>2.71e-31</td>\n",
       "</tr>\n",
       "<tr>\n",
       "  <th>Kurtosis:</th>      <td> 4.199</td> <th>  Cond. No.          </th> <td>8.16e+04</td>\n",
       "</tr>\n",
       "</table><br/><br/>Notes:<br/>[1] Standard Errors assume that the covariance matrix of the errors is correctly specified.<br/>[2] The condition number is large, 8.16e+04. This might indicate that there are<br/>strong multicollinearity or other numerical problems."
      ],
      "text/plain": [
       "<class 'statsmodels.iolib.summary.Summary'>\n",
       "\"\"\"\n",
       "                            OLS Regression Results                            \n",
       "==============================================================================\n",
       "Dep. Variable:                  price   R-squared:                       0.116\n",
       "Model:                            OLS   Adj. R-squared:                  0.109\n",
       "Method:                 Least Squares   F-statistic:                     18.35\n",
       "Date:                Wed, 25 Aug 2021   Prob (F-statistic):           3.32e-11\n",
       "Time:                        17:51:03   Log-Likelihood:                -6231.0\n",
       "No. Observations:                 425   AIC:                         1.247e+04\n",
       "Df Residuals:                     421   BIC:                         1.249e+04\n",
       "Df Model:                           3                                         \n",
       "Covariance Type:            nonrobust                                         \n",
       "===============================================================================\n",
       "                  coef    std err          t      P>|t|      [0.025      0.975]\n",
       "-------------------------------------------------------------------------------\n",
       "const       -1.407e+06   5.12e+05     -2.749      0.006   -2.41e+06   -4.01e+05\n",
       "sqft_living   188.2528    113.455      1.659      0.098     -34.756     411.262\n",
       "bathrooms     1.14e+05   4.57e+04      2.492      0.013    2.41e+04    2.04e+05\n",
       "grade         1.52e+05   2.61e+04      5.827      0.000    1.01e+05    2.03e+05\n",
       "==============================================================================\n",
       "Omnibus:                       87.545   Durbin-Watson:                   2.042\n",
       "Prob(Omnibus):                  0.000   Jarque-Bera (JB):              140.766\n",
       "Skew:                           1.276   Prob(JB):                     2.71e-31\n",
       "Kurtosis:                       4.199   Cond. No.                     8.16e+04\n",
       "==============================================================================\n",
       "\n",
       "Notes:\n",
       "[1] Standard Errors assume that the covariance matrix of the errors is correctly specified.\n",
       "[2] The condition number is large, 8.16e+04. This might indicate that there are\n",
       "strong multicollinearity or other numerical problems.\n",
       "\"\"\""
      ]
     },
     "execution_count": 35,
     "metadata": {},
     "output_type": "execute_result"
    }
   ],
   "source": [
    "X = sm.add_constant(X_train[most_correlated_features])\n",
    "non_random_sum = sm.OLS(y_train, X).fit()\n",
    "non_random_sum.summary()"
   ]
  },
  {
   "cell_type": "code",
   "execution_count": 36,
   "metadata": {},
   "outputs": [
    {
     "data": {
      "text/plain": [
       "152000.0"
      ]
     },
     "execution_count": 36,
     "metadata": {},
     "output_type": "execute_result"
    }
   ],
   "source": [
    "1.52e+05"
   ]
  },
  {
   "cell_type": "code",
   "execution_count": 37,
   "metadata": {},
   "outputs": [
    {
     "name": "stderr",
     "output_type": "stream",
     "text": [
      "<ipython-input-37-306e38a970e2>:4: UserWarning: Matplotlib is currently using module://ipykernel.pylab.backend_inline, which is a non-GUI backend, so cannot show the figure.\n",
      "  fig.show()\n"
     ]
    },
    {
     "data": {
      "image/png": "[encoded data removed]",
      "text/plain": [
       "<Figure size 432x288 with 1 Axes>"
      ]
     },
     "metadata": {
      "needs_background": "light"
     },
     "output_type": "display_data"
    }
   ],
   "source": [
    "residuals = non_random_sum.resid\n",
    "fig = sm.graphics.qqplot(residuals, dist=stats.norm, \n",
    "                        line = '45', fit=True)\n",
    "fig.show()"
   ]
  },
  {
   "cell_type": "markdown",
   "metadata": {},
   "source": [
    "# Non-Collinearity\n",
    "The regressors being calculated aren't perfectly correlated with each other."
   ]
  },
  {
   "cell_type": "markdown",
   "metadata": {},
   "source": [
    "# Train Test Split"
   ]
  },
  {
   "cell_type": "code",
   "execution_count": 38,
   "metadata": {},
   "outputs": [],
   "source": [
    "og_df['grade_repeated'] = og_df['grade']+2"
   ]
  },
  {
   "cell_type": "code",
   "execution_count": 39,
   "metadata": {},
   "outputs": [
    {
     "data": {
      "text/plain": [
       "((16197, 21), (5400, 21), (16197,), (5400,))"
      ]
     },
     "execution_count": 39,
     "metadata": {},
     "output_type": "execute_result"
    }
   ],
   "source": [
    "y = og_df['price']\n",
    "X = og_df.drop(columns = 'price')\n",
    "\n",
    "X_train, X_test, y_train, y_test = train_test_split(X,y,random_state=42)\n",
    "X_train.shape, X_test.shape, y_train.shape, y_test.shape"
   ]
  },
  {
   "cell_type": "code",
   "execution_count": 40,
   "metadata": {},
   "outputs": [],
   "source": [
    "collinear_feats = most_correlated_features\n",
    "collinear_feats.append('grade_repeated')"
   ]
  },
  {
   "cell_type": "code",
   "execution_count": 41,
   "metadata": {},
   "outputs": [
    {
     "data": {
      "text/plain": [
       "['sqft_living', 'bathrooms', 'grade', 'grade_repeated']"
      ]
     },
     "execution_count": 41,
     "metadata": {},
     "output_type": "execute_result"
    }
   ],
   "source": [
    "collinear_feats"
   ]
  },
  {
   "cell_type": "code",
   "execution_count": 42,
   "metadata": {},
   "outputs": [],
   "source": [
    "collinear_model = LinearRegression()\n",
    "collinear_model.fit(X_train[collinear_feats], y_train)\n",
    "y_pred_train = collinear_model.predict(X_train[collinear_feats])\n",
    "y_pred_test = collinear_model.predict(X_test[collinear_feats])\n",
    "\n",
    "#R^2\n",
    "collinear_r_train = collinear_model.score(X_train[collinear_feats], y_train)\n",
    "collinear_r_test = collinear_model.score(X_test[collinear_feats], y_test)\n",
    "#MAE\n",
    "collinear_mae_train = mean_absolute_error(y_train, y_pred_train)\n",
    "collinear_mae_test = mean_absolute_error(y_test, y_pred_test)"
   ]
  },
  {
   "cell_type": "code",
   "execution_count": 43,
   "metadata": {},
   "outputs": [
    {
     "name": "stdout",
     "output_type": "stream",
     "text": [
      "Baseline Model\n",
      "R^2 for train: 0.5382654395652808\n",
      "R^2 for test: 0.5342925077446794\n",
      "MAE for train: 163935.8173393085\n",
      "MAE for test: 162201.2435837135\n",
      "Collinear Model\n",
      "R^2 for train: 0.5382654395652808\n",
      "R^2 for test: 0.5342925077446856\n",
      "MAE for train: 163935.81733933307\n",
      "MAE for test: 162201.2435837383\n"
     ]
    }
   ],
   "source": [
    "print(\"Baseline Model\")\n",
    "print(\"R^2 for train:\", baseline_r_train)\n",
    "print(\"R^2 for test:\", baseline_r_test)\n",
    "print(\"MAE for train:\", baseline_mae_train)\n",
    "print(\"MAE for test:\", baseline_mae_test)\n",
    "\n",
    "print(\"Collinear Model\")\n",
    "print(\"R^2 for train:\", collinear_r_train)\n",
    "print(\"R^2 for test:\", collinear_r_test)\n",
    "print(\"MAE for train:\", collinear_mae_train)\n",
    "print(\"MAE for test:\", collinear_mae_test)"
   ]
  },
  {
   "cell_type": "code",
   "execution_count": 44,
   "metadata": {},
   "outputs": [
    {
     "data": {
      "text/html": [
       "<table class=\"simpletable\">\n",
       "<caption>OLS Regression Results</caption>\n",
       "<tr>\n",
       "  <th>Dep. Variable:</th>          <td>price</td>      <th>  R-squared:         </th>  <td>   0.538</td>  \n",
       "</tr>\n",
       "<tr>\n",
       "  <th>Model:</th>                   <td>OLS</td>       <th>  Adj. R-squared:    </th>  <td>   0.538</td>  \n",
       "</tr>\n",
       "<tr>\n",
       "  <th>Method:</th>             <td>Least Squares</td>  <th>  F-statistic:       </th>  <td>   6292.</td>  \n",
       "</tr>\n",
       "<tr>\n",
       "  <th>Date:</th>             <td>Wed, 25 Aug 2021</td> <th>  Prob (F-statistic):</th>   <td>  0.00</td>   \n",
       "</tr>\n",
       "<tr>\n",
       "  <th>Time:</th>                 <td>17:51:03</td>     <th>  Log-Likelihood:    </th> <td>-2.2423e+05</td>\n",
       "</tr>\n",
       "<tr>\n",
       "  <th>No. Observations:</th>      <td> 16197</td>      <th>  AIC:               </th>  <td>4.485e+05</td> \n",
       "</tr>\n",
       "<tr>\n",
       "  <th>Df Residuals:</th>          <td> 16193</td>      <th>  BIC:               </th>  <td>4.485e+05</td> \n",
       "</tr>\n",
       "<tr>\n",
       "  <th>Df Model:</th>              <td>     3</td>      <th>                     </th>      <td> </td>     \n",
       "</tr>\n",
       "<tr>\n",
       "  <th>Covariance Type:</th>      <td>nonrobust</td>    <th>                     </th>      <td> </td>     \n",
       "</tr>\n",
       "</table>\n",
       "<table class=\"simpletable\">\n",
       "<tr>\n",
       "         <td></td>           <th>coef</th>     <th>std err</th>      <th>t</th>      <th>P>|t|</th>  <th>[0.025</th>    <th>0.975]</th>  \n",
       "</tr>\n",
       "<tr>\n",
       "  <th>const</th>          <td>-2.431e+05</td> <td> 5941.414</td> <td>  -40.908</td> <td> 0.000</td> <td>-2.55e+05</td> <td>-2.31e+05</td>\n",
       "</tr>\n",
       "<tr>\n",
       "  <th>sqft_living</th>    <td>  197.4547</td> <td>    3.857</td> <td>   51.190</td> <td> 0.000</td> <td>  189.894</td> <td>  205.015</td>\n",
       "</tr>\n",
       "<tr>\n",
       "  <th>bathrooms</th>      <td>-3.587e+04</td> <td> 4000.168</td> <td>   -8.967</td> <td> 0.000</td> <td>-4.37e+04</td> <td> -2.8e+04</td>\n",
       "</tr>\n",
       "<tr>\n",
       "  <th>grade</th>          <td>  2.97e+05</td> <td> 7203.212</td> <td>   41.237</td> <td> 0.000</td> <td> 2.83e+05</td> <td> 3.11e+05</td>\n",
       "</tr>\n",
       "<tr>\n",
       "  <th>grade_repeated</th> <td>-1.891e+05</td> <td> 4711.594</td> <td>  -40.128</td> <td> 0.000</td> <td>-1.98e+05</td> <td> -1.8e+05</td>\n",
       "</tr>\n",
       "</table>\n",
       "<table class=\"simpletable\">\n",
       "<tr>\n",
       "  <th>Omnibus:</th>       <td>11793.849</td> <th>  Durbin-Watson:     </th>  <td>   1.996</td> \n",
       "</tr>\n",
       "<tr>\n",
       "  <th>Prob(Omnibus):</th>  <td> 0.000</td>   <th>  Jarque-Bera (JB):  </th> <td>503921.998</td>\n",
       "</tr>\n",
       "<tr>\n",
       "  <th>Skew:</th>           <td> 3.036</td>   <th>  Prob(JB):          </th>  <td>    0.00</td> \n",
       "</tr>\n",
       "<tr>\n",
       "  <th>Kurtosis:</th>       <td>29.642</td>   <th>  Cond. No.          </th>  <td>3.14e+17</td> \n",
       "</tr>\n",
       "</table><br/><br/>Notes:<br/>[1] Standard Errors assume that the covariance matrix of the errors is correctly specified.<br/>[2] The smallest eigenvalue is 8.5e-25. This might indicate that there are<br/>strong multicollinearity problems or that the design matrix is singular."
      ],
      "text/plain": [
       "<class 'statsmodels.iolib.summary.Summary'>\n",
       "\"\"\"\n",
       "                            OLS Regression Results                            \n",
       "==============================================================================\n",
       "Dep. Variable:                  price   R-squared:                       0.538\n",
       "Model:                            OLS   Adj. R-squared:                  0.538\n",
       "Method:                 Least Squares   F-statistic:                     6292.\n",
       "Date:                Wed, 25 Aug 2021   Prob (F-statistic):               0.00\n",
       "Time:                        17:51:03   Log-Likelihood:            -2.2423e+05\n",
       "No. Observations:               16197   AIC:                         4.485e+05\n",
       "Df Residuals:                   16193   BIC:                         4.485e+05\n",
       "Df Model:                           3                                         \n",
       "Covariance Type:            nonrobust                                         \n",
       "==================================================================================\n",
       "                     coef    std err          t      P>|t|      [0.025      0.975]\n",
       "----------------------------------------------------------------------------------\n",
       "const          -2.431e+05   5941.414    -40.908      0.000   -2.55e+05   -2.31e+05\n",
       "sqft_living      197.4547      3.857     51.190      0.000     189.894     205.015\n",
       "bathrooms      -3.587e+04   4000.168     -8.967      0.000   -4.37e+04    -2.8e+04\n",
       "grade            2.97e+05   7203.212     41.237      0.000    2.83e+05    3.11e+05\n",
       "grade_repeated -1.891e+05   4711.594    -40.128      0.000   -1.98e+05    -1.8e+05\n",
       "==============================================================================\n",
       "Omnibus:                    11793.849   Durbin-Watson:                   1.996\n",
       "Prob(Omnibus):                  0.000   Jarque-Bera (JB):           503921.998\n",
       "Skew:                           3.036   Prob(JB):                         0.00\n",
       "Kurtosis:                      29.642   Cond. No.                     3.14e+17\n",
       "==============================================================================\n",
       "\n",
       "Notes:\n",
       "[1] Standard Errors assume that the covariance matrix of the errors is correctly specified.\n",
       "[2] The smallest eigenvalue is 8.5e-25. This might indicate that there are\n",
       "strong multicollinearity problems or that the design matrix is singular.\n",
       "\"\"\""
      ]
     },
     "execution_count": 44,
     "metadata": {},
     "output_type": "execute_result"
    }
   ],
   "source": [
    "X = sm.add_constant(X_train[collinear_feats])\n",
    "collinear_sum = sm.OLS(y_train, X).fit()\n",
    "collinear_sum.summary()"
   ]
  },
  {
   "cell_type": "code",
   "execution_count": 70,
   "metadata": {},
   "outputs": [
    {
     "data": {
      "text/plain": [
       "-189100.0"
      ]
     },
     "execution_count": 70,
     "metadata": {},
     "output_type": "execute_result"
    }
   ],
   "source": [
    "-1.891e+05"
   ]
  },
  {
   "cell_type": "code",
   "execution_count": 45,
   "metadata": {},
   "outputs": [
    {
     "name": "stderr",
     "output_type": "stream",
     "text": [
      "<ipython-input-45-2280026ce2cf>:4: UserWarning: Matplotlib is currently using module://ipykernel.pylab.backend_inline, which is a non-GUI backend, so cannot show the figure.\n",
      "  fig.show()\n"
     ]
    },
    {
     "data": {
      "image/png": "[encoded data removed]",
      "text/plain": [
       "<Figure size 432x288 with 1 Axes>"
      ]
     },
     "metadata": {
      "needs_background": "light"
     },
     "output_type": "display_data"
    }
   ],
   "source": [
    "residuals = collinear_sum.resid\n",
    "fig = sm.graphics.qqplot(residuals, dist=stats.norm, \n",
    "                        line = '45', fit=True)\n",
    "fig.show()"
   ]
  },
  {
   "cell_type": "code",
   "execution_count": 46,
   "metadata": {},
   "outputs": [],
   "source": [
    "def check_collin(feats, df):\n",
    "    \"\"\"\n",
    "    IN: feats is the independent variable(s), df is the dataframe\n",
    "    \n",
    "    OUT: Dictionary containing feature name and variance inflaction factor\n",
    "    score. If the score is > 10 it is unuseable\n",
    "    \n",
    "    \"\"\"\n",
    "    vif_dct = {}\n",
    "    X_train_consts = sm.add_constant(df[feats])\n",
    "    for i in range(len(X_train_consts.columns)):\n",
    "    \n",
    "        vif = variance_inflation_factor(X_train_consts.values, i)\n",
    "        v = X_train_consts.columns[i]\n",
    "        vif_dct[v] = vif\n",
    "    return vif_dct"
   ]
  },
  {
   "cell_type": "code",
   "execution_count": 47,
   "metadata": {},
   "outputs": [
    {
     "name": "stderr",
     "output_type": "stream",
     "text": [
      "/Users/johnwelsh/opt/anaconda3/envs/learn-env/lib/python3.8/site-packages/statsmodels/regression/linear_model.py:1715: RuntimeWarning: divide by zero encountered in double_scalars\n",
      "  return 1 - self.ssr/self.centered_tss\n",
      "/Users/johnwelsh/opt/anaconda3/envs/learn-env/lib/python3.8/site-packages/statsmodels/stats/outliers_influence.py:193: RuntimeWarning: divide by zero encountered in double_scalars\n",
      "  vif = 1. / (1. - r_squared_i)\n"
     ]
    },
    {
     "data": {
      "text/plain": [
       "{'const': 0.0,\n",
       " 'sqft_living': 3.2779742999253285,\n",
       " 'bathrooms': 2.46654792418915,\n",
       " 'grade': inf,\n",
       " 'grade_repeated': inf}"
      ]
     },
     "execution_count": 47,
     "metadata": {},
     "output_type": "execute_result"
    }
   ],
   "source": [
    "check_collin(collinear_feats, X_train)"
   ]
  },
  {
   "cell_type": "markdown",
   "metadata": {},
   "source": [
    "# Exogeneity:\n",
    "The regressors aren't correlated with the error term"
   ]
  },
  {
   "cell_type": "markdown",
   "metadata": {},
   "source": [
    "For this experiment I will switch price and sqft_living."
   ]
  },
  {
   "cell_type": "markdown",
   "metadata": {},
   "source": [
    "## Train Test Split"
   ]
  },
  {
   "cell_type": "code",
   "execution_count": 48,
   "metadata": {},
   "outputs": [
    {
     "data": {
      "text/plain": [
       "((16197, 21), (5400, 21), (16197,), (5400,))"
      ]
     },
     "execution_count": 48,
     "metadata": {},
     "output_type": "execute_result"
    }
   ],
   "source": [
    "y = og_df['sqft_living']\n",
    "X = og_df.drop(columns = 'sqft_living')\n",
    "\n",
    "X_train, X_test, y_train, y_test = train_test_split(X,y,random_state=42)\n",
    "X_train.shape, X_test.shape, y_train.shape, y_test.shape"
   ]
  },
  {
   "cell_type": "code",
   "execution_count": 49,
   "metadata": {},
   "outputs": [
    {
     "data": {
      "text/plain": [
       "'grade_repeated'"
      ]
     },
     "execution_count": 49,
     "metadata": {},
     "output_type": "execute_result"
    }
   ],
   "source": [
    "most_correlated_features.pop()"
   ]
  },
  {
   "cell_type": "code",
   "execution_count": 50,
   "metadata": {},
   "outputs": [
    {
     "data": {
      "text/plain": [
       "'sqft_living'"
      ]
     },
     "execution_count": 50,
     "metadata": {},
     "output_type": "execute_result"
    }
   ],
   "source": [
    "most_correlated_features.pop(0)"
   ]
  },
  {
   "cell_type": "code",
   "execution_count": 51,
   "metadata": {},
   "outputs": [],
   "source": [
    "most_correlated_features.append('price')"
   ]
  },
  {
   "cell_type": "code",
   "execution_count": 52,
   "metadata": {},
   "outputs": [
    {
     "data": {
      "text/plain": [
       "['bathrooms', 'grade', 'price']"
      ]
     },
     "execution_count": 52,
     "metadata": {},
     "output_type": "execute_result"
    }
   ],
   "source": [
    "most_correlated_features"
   ]
  },
  {
   "cell_type": "code",
   "execution_count": 53,
   "metadata": {},
   "outputs": [],
   "source": [
    "exog_model = LinearRegression()\n",
    "exog_model.fit(X_train[most_correlated_features], y_train)\n",
    "y_pred_train = exog_model.predict(X_train[most_correlated_features])\n",
    "y_pred_test = exog_model.predict(X_test[most_correlated_features])\n",
    "\n",
    "#R^2\n",
    "exog_r_train = exog_model.score(X_train[most_correlated_features], y_train)\n",
    "exog_r_test = exog_model.score(X_test[most_correlated_features], y_test)\n",
    "#MAE\n",
    "exog_mae_train = mean_absolute_error(y_train, y_pred_train)\n",
    "exog_mae_test = mean_absolute_error(y_test, y_pred_test)"
   ]
  },
  {
   "cell_type": "code",
   "execution_count": 54,
   "metadata": {},
   "outputs": [
    {
     "name": "stdout",
     "output_type": "stream",
     "text": [
      "Baseline Model\n",
      "R^2 for train: 0.5382654395652808\n",
      "R^2 for test: 0.5342925077446794\n",
      "MAE for train: 163935.8173393085\n",
      "MAE for test: 162201.2435837135\n",
      "Exog Model\n",
      "R^2 for train: 0.7374243651822724\n",
      "R^2 for test: 0.7365186556517289\n",
      "MAE for train: 353.3501693741651\n",
      "MAE for test: 355.36531608310344\n"
     ]
    }
   ],
   "source": [
    "print(\"Baseline Model\")\n",
    "print(\"R^2 for train:\", baseline_r_train)\n",
    "print(\"R^2 for test:\", baseline_r_test)\n",
    "print(\"MAE for train:\", baseline_mae_train)\n",
    "print(\"MAE for test:\", baseline_mae_test)\n",
    "\n",
    "print(\"Exog Model\")\n",
    "print(\"R^2 for train:\", exog_r_train)\n",
    "print(\"R^2 for test:\", exog_r_test)\n",
    "print(\"MAE for train:\", exog_mae_train)\n",
    "print(\"MAE for test:\", exog_mae_test)"
   ]
  },
  {
   "cell_type": "code",
   "execution_count": 55,
   "metadata": {},
   "outputs": [
    {
     "data": {
      "text/html": [
       "<table class=\"simpletable\">\n",
       "<caption>OLS Regression Results</caption>\n",
       "<tr>\n",
       "  <th>Dep. Variable:</th>       <td>sqft_living</td>   <th>  R-squared:         </th>  <td>   0.737</td>  \n",
       "</tr>\n",
       "<tr>\n",
       "  <th>Model:</th>                   <td>OLS</td>       <th>  Adj. R-squared:    </th>  <td>   0.737</td>  \n",
       "</tr>\n",
       "<tr>\n",
       "  <th>Method:</th>             <td>Least Squares</td>  <th>  F-statistic:       </th>  <td>1.516e+04</td> \n",
       "</tr>\n",
       "<tr>\n",
       "  <th>Date:</th>             <td>Wed, 25 Aug 2021</td> <th>  Prob (F-statistic):</th>   <td>  0.00</td>   \n",
       "</tr>\n",
       "<tr>\n",
       "  <th>Time:</th>                 <td>17:51:04</td>     <th>  Log-Likelihood:    </th> <td>-1.2266e+05</td>\n",
       "</tr>\n",
       "<tr>\n",
       "  <th>No. Observations:</th>      <td> 16197</td>      <th>  AIC:               </th>  <td>2.453e+05</td> \n",
       "</tr>\n",
       "<tr>\n",
       "  <th>Df Residuals:</th>          <td> 16193</td>      <th>  BIC:               </th>  <td>2.453e+05</td> \n",
       "</tr>\n",
       "<tr>\n",
       "  <th>Df Model:</th>              <td>     3</td>      <th>                     </th>      <td> </td>     \n",
       "</tr>\n",
       "<tr>\n",
       "  <th>Covariance Type:</th>      <td>nonrobust</td>    <th>                     </th>      <td> </td>     \n",
       "</tr>\n",
       "</table>\n",
       "<table class=\"simpletable\">\n",
       "<tr>\n",
       "      <td></td>         <th>coef</th>     <th>std err</th>      <th>t</th>      <th>P>|t|</th>  <th>[0.025</th>    <th>0.975]</th>  \n",
       "</tr>\n",
       "<tr>\n",
       "  <th>const</th>     <td>-1139.3070</td> <td>   29.098</td> <td>  -39.154</td> <td> 0.000</td> <td>-1196.342</td> <td>-1082.272</td>\n",
       "</tr>\n",
       "<tr>\n",
       "  <th>bathrooms</th> <td>  491.3205</td> <td>    6.522</td> <td>   75.329</td> <td> 0.000</td> <td>  478.536</td> <td>  504.105</td>\n",
       "</tr>\n",
       "<tr>\n",
       "  <th>grade</th>     <td>  235.2013</td> <td>    4.904</td> <td>   47.957</td> <td> 0.000</td> <td>  225.588</td> <td>  244.814</td>\n",
       "</tr>\n",
       "<tr>\n",
       "  <th>price</th>     <td>    0.0007</td> <td> 1.38e-05</td> <td>   51.190</td> <td> 0.000</td> <td>    0.001</td> <td>    0.001</td>\n",
       "</tr>\n",
       "</table>\n",
       "<table class=\"simpletable\">\n",
       "<tr>\n",
       "  <th>Omnibus:</th>       <td>2324.781</td> <th>  Durbin-Watson:     </th> <td>   2.012</td> \n",
       "</tr>\n",
       "<tr>\n",
       "  <th>Prob(Omnibus):</th>  <td> 0.000</td>  <th>  Jarque-Bera (JB):  </th> <td>11052.686</td>\n",
       "</tr>\n",
       "<tr>\n",
       "  <th>Skew:</th>           <td> 0.621</td>  <th>  Prob(JB):          </th> <td>    0.00</td> \n",
       "</tr>\n",
       "<tr>\n",
       "  <th>Kurtosis:</th>       <td> 6.852</td>  <th>  Cond. No.          </th> <td>5.21e+06</td> \n",
       "</tr>\n",
       "</table><br/><br/>Notes:<br/>[1] Standard Errors assume that the covariance matrix of the errors is correctly specified.<br/>[2] The condition number is large, 5.21e+06. This might indicate that there are<br/>strong multicollinearity or other numerical problems."
      ],
      "text/plain": [
       "<class 'statsmodels.iolib.summary.Summary'>\n",
       "\"\"\"\n",
       "                            OLS Regression Results                            \n",
       "==============================================================================\n",
       "Dep. Variable:            sqft_living   R-squared:                       0.737\n",
       "Model:                            OLS   Adj. R-squared:                  0.737\n",
       "Method:                 Least Squares   F-statistic:                 1.516e+04\n",
       "Date:                Wed, 25 Aug 2021   Prob (F-statistic):               0.00\n",
       "Time:                        17:51:04   Log-Likelihood:            -1.2266e+05\n",
       "No. Observations:               16197   AIC:                         2.453e+05\n",
       "Df Residuals:                   16193   BIC:                         2.453e+05\n",
       "Df Model:                           3                                         \n",
       "Covariance Type:            nonrobust                                         \n",
       "==============================================================================\n",
       "                 coef    std err          t      P>|t|      [0.025      0.975]\n",
       "------------------------------------------------------------------------------\n",
       "const      -1139.3070     29.098    -39.154      0.000   -1196.342   -1082.272\n",
       "bathrooms    491.3205      6.522     75.329      0.000     478.536     504.105\n",
       "grade        235.2013      4.904     47.957      0.000     225.588     244.814\n",
       "price          0.0007   1.38e-05     51.190      0.000       0.001       0.001\n",
       "==============================================================================\n",
       "Omnibus:                     2324.781   Durbin-Watson:                   2.012\n",
       "Prob(Omnibus):                  0.000   Jarque-Bera (JB):            11052.686\n",
       "Skew:                           0.621   Prob(JB):                         0.00\n",
       "Kurtosis:                       6.852   Cond. No.                     5.21e+06\n",
       "==============================================================================\n",
       "\n",
       "Notes:\n",
       "[1] Standard Errors assume that the covariance matrix of the errors is correctly specified.\n",
       "[2] The condition number is large, 5.21e+06. This might indicate that there are\n",
       "strong multicollinearity or other numerical problems.\n",
       "\"\"\""
      ]
     },
     "execution_count": 55,
     "metadata": {},
     "output_type": "execute_result"
    }
   ],
   "source": [
    "X = sm.add_constant(X_train[most_correlated_features])\n",
    "exog_sum = sm.OLS(y_train, X).fit()\n",
    "exog_sum.summary()"
   ]
  },
  {
   "cell_type": "code",
   "execution_count": 56,
   "metadata": {},
   "outputs": [
    {
     "name": "stderr",
     "output_type": "stream",
     "text": [
      "<ipython-input-56-e82a4e635d52>:4: UserWarning: Matplotlib is currently using module://ipykernel.pylab.backend_inline, which is a non-GUI backend, so cannot show the figure.\n",
      "  fig.show()\n"
     ]
    },
    {
     "data": {
      "image/png": "[encoded data removed]",
      "text/plain": [
       "<Figure size 432x288 with 1 Axes>"
      ]
     },
     "metadata": {
      "needs_background": "light"
     },
     "output_type": "display_data"
    }
   ],
   "source": [
    "residuals = exog_sum.resid\n",
    "fig = sm.graphics.qqplot(residuals, dist=stats.norm, \n",
    "                        line = '45', fit=True)\n",
    "fig.show()"
   ]
  },
  {
   "cell_type": "code",
   "execution_count": 57,
   "metadata": {},
   "outputs": [
    {
     "data": {
      "text/plain": [
       "{'const': 61.934766279085416,\n",
       " 'bathrooms': 1.8355601301892024,\n",
       " 'grade': 2.405417256145229,\n",
       " 'price': 1.8640930449493154}"
      ]
     },
     "execution_count": 57,
     "metadata": {},
     "output_type": "execute_result"
    }
   ],
   "source": [
    "check_collin(most_correlated_features, X_train)"
   ]
  },
  {
   "cell_type": "markdown",
   "metadata": {},
   "source": [
    "https://stats.stackexchange.com/a/59639"
   ]
  },
  {
   "cell_type": "markdown",
   "metadata": {},
   "source": [
    "# Homoscedasticity:\n",
    "No matter what the values of our regressors might be, the error of the variance is constant."
   ]
  },
  {
   "cell_type": "markdown",
   "metadata": {},
   "source": [
    "## Train Test Split"
   ]
  },
  {
   "cell_type": "code",
   "execution_count": 58,
   "metadata": {},
   "outputs": [
    {
     "data": {
      "text/plain": [
       "((16197, 21), (5400, 21), (16197,), (5400,))"
      ]
     },
     "execution_count": 58,
     "metadata": {},
     "output_type": "execute_result"
    }
   ],
   "source": [
    "y = og_df['price']\n",
    "X = og_df.drop(columns = 'price')\n",
    "\n",
    "X_train, X_test, y_train, y_test = train_test_split(X,y,random_state=42)\n",
    "X_train.shape, X_test.shape, y_train.shape, y_test.shape"
   ]
  },
  {
   "cell_type": "code",
   "execution_count": 59,
   "metadata": {},
   "outputs": [],
   "source": [
    "most_correlated_features = ['sqft_living', 'bathrooms', 'grade']"
   ]
  },
  {
   "cell_type": "code",
   "execution_count": 60,
   "metadata": {},
   "outputs": [
    {
     "data": {
      "text/plain": [
       "<AxesSubplot:xlabel='sqft_living', ylabel='price'>"
      ]
     },
     "execution_count": 60,
     "metadata": {},
     "output_type": "execute_result"
    },
    {
     "data": {
      "image/png": "[encoded data removed]",
      "text/plain": [
       "<Figure size 432x288 with 1 Axes>"
      ]
     },
     "metadata": {
      "needs_background": "light"
     },
     "output_type": "display_data"
    }
   ],
   "source": [
    "sns.residplot(x=X_train['sqft_living'], y=y_train, lowess=True, color=\"g\")"
   ]
  },
  {
   "cell_type": "code",
   "execution_count": 61,
   "metadata": {},
   "outputs": [],
   "source": [
    "heteroscedastic_model = LinearRegression()\n",
    "heteroscedastic_model.fit(X_train[most_correlated_features], y_train)\n",
    "y_pred_train = heteroscedastic_model.predict(X_train[most_correlated_features])\n",
    "y_pred_test = heteroscedastic_model.predict(X_test[most_correlated_features])\n",
    "\n",
    "#R^2\n",
    "heteroscedastic_r_train = heteroscedastic_model.score(X_train[most_correlated_features], y_train)\n",
    "heteroscedastic_r_test = heteroscedastic_model.score(X_test[most_correlated_features], y_test)\n",
    "#MAE\n",
    "heteroscedastic_mae_train = mean_absolute_error(y_train, y_pred_train)\n",
    "heteroscedastic_mae_test = mean_absolute_error(y_test, y_pred_test)"
   ]
  },
  {
   "cell_type": "markdown",
   "metadata": {},
   "source": [
    "## Train Test Split"
   ]
  },
  {
   "cell_type": "code",
   "execution_count": 62,
   "metadata": {},
   "outputs": [
    {
     "data": {
      "text/plain": [
       "((15080, 21), (5027, 21), (15080,), (5027,))"
      ]
     },
     "execution_count": 62,
     "metadata": {},
     "output_type": "execute_result"
    }
   ],
   "source": [
    "subset = og_df.loc[og_df.price < 1_000_000]\n",
    "y = subset['price']\n",
    "X = subset.drop(columns = 'price')\n",
    "\n",
    "X_train, X_test, y_train, y_test = train_test_split(X,y,random_state=42)\n",
    "X_train.shape, X_test.shape, y_train.shape, y_test.shape"
   ]
  },
  {
   "cell_type": "code",
   "execution_count": 63,
   "metadata": {},
   "outputs": [
    {
     "data": {
      "text/plain": [
       "<AxesSubplot:xlabel='sqft_living', ylabel='price'>"
      ]
     },
     "execution_count": 63,
     "metadata": {},
     "output_type": "execute_result"
    },
    {
     "data": {
      "image/png": "[encoded data removed]",
      "text/plain": [
       "<Figure size 432x288 with 1 Axes>"
      ]
     },
     "metadata": {
      "needs_background": "light"
     },
     "output_type": "display_data"
    }
   ],
   "source": [
    "sns.residplot(x=X_train['sqft_living'], y=y_train, lowess=True, color=\"g\")"
   ]
  },
  {
   "cell_type": "code",
   "execution_count": 64,
   "metadata": {},
   "outputs": [],
   "source": [
    "homoscedastic_model = LinearRegression()\n",
    "homoscedastic_model.fit(X_train[most_correlated_features], y_train)\n",
    "y_pred_train = homoscedastic_model.predict(X_train[most_correlated_features])\n",
    "y_pred_test = homoscedastic_model.predict(X_test[most_correlated_features])\n",
    "\n",
    "#R^2\n",
    "homoscedastic_r_train = homoscedastic_model.score(X_train[most_correlated_features], y_train)\n",
    "homoscedastic_r_test = homoscedastic_model.score(X_test[most_correlated_features], y_test)\n",
    "#MAE\n",
    "homoscedastic_mae_train = mean_absolute_error(y_train, y_pred_train)\n",
    "homoscedastic_mae_test = mean_absolute_error(y_test, y_pred_test)"
   ]
  },
  {
   "cell_type": "code",
   "execution_count": 65,
   "metadata": {},
   "outputs": [
    {
     "name": "stdout",
     "output_type": "stream",
     "text": [
      "Heteroscedastic Model\n",
      "R^2 for train: 0.5382654395652808\n",
      "R^2 for test: 0.5342925077446794\n",
      "MAE for train: 163935.8173393085\n",
      "MAE for test: 162201.2435837135\n",
      "Homoscedastic Model\n",
      "R^2 for train: 0.4416754340194716\n",
      "R^2 for test: 0.44711629528334906\n",
      "MAE for train: 117434.69717895218\n",
      "MAE for test: 114759.9770763656\n"
     ]
    }
   ],
   "source": [
    "print(\"Heteroscedastic Model\")\n",
    "print(\"R^2 for train:\", heteroscedastic_r_train)\n",
    "print(\"R^2 for test:\", heteroscedastic_r_test)\n",
    "print(\"MAE for train:\", heteroscedastic_mae_train)\n",
    "print(\"MAE for test:\", heteroscedastic_mae_test)\n",
    "\n",
    "print(\"Homoscedastic Model\")\n",
    "print(\"R^2 for train:\", homoscedastic_r_train)\n",
    "print(\"R^2 for test:\", homoscedastic_r_test)\n",
    "print(\"MAE for train:\", homoscedastic_mae_train)\n",
    "print(\"MAE for test:\", homoscedastic_mae_test)"
   ]
  },
  {
   "cell_type": "code",
   "execution_count": 66,
   "metadata": {},
   "outputs": [
    {
     "data": {
      "text/html": [
       "<table class=\"simpletable\">\n",
       "<caption>OLS Regression Results</caption>\n",
       "<tr>\n",
       "  <th>Dep. Variable:</th>          <td>price</td>      <th>  R-squared:         </th>  <td>   0.442</td>  \n",
       "</tr>\n",
       "<tr>\n",
       "  <th>Model:</th>                   <td>OLS</td>       <th>  Adj. R-squared:    </th>  <td>   0.442</td>  \n",
       "</tr>\n",
       "<tr>\n",
       "  <th>Method:</th>             <td>Least Squares</td>  <th>  F-statistic:       </th>  <td>   3975.</td>  \n",
       "</tr>\n",
       "<tr>\n",
       "  <th>Date:</th>             <td>Wed, 25 Aug 2021</td> <th>  Prob (F-statistic):</th>   <td>  0.00</td>   \n",
       "</tr>\n",
       "<tr>\n",
       "  <th>Time:</th>                 <td>17:51:06</td>     <th>  Log-Likelihood:    </th> <td>-2.0078e+05</td>\n",
       "</tr>\n",
       "<tr>\n",
       "  <th>No. Observations:</th>      <td> 15080</td>      <th>  AIC:               </th>  <td>4.016e+05</td> \n",
       "</tr>\n",
       "<tr>\n",
       "  <th>Df Residuals:</th>          <td> 15076</td>      <th>  BIC:               </th>  <td>4.016e+05</td> \n",
       "</tr>\n",
       "<tr>\n",
       "  <th>Df Model:</th>              <td>     3</td>      <th>                     </th>      <td> </td>     \n",
       "</tr>\n",
       "<tr>\n",
       "  <th>Covariance Type:</th>      <td>nonrobust</td>    <th>                     </th>      <td> </td>     \n",
       "</tr>\n",
       "</table>\n",
       "<table class=\"simpletable\">\n",
       "<tr>\n",
       "       <td></td>          <th>coef</th>     <th>std err</th>      <th>t</th>      <th>P>|t|</th>  <th>[0.025</th>    <th>0.975]</th>  \n",
       "</tr>\n",
       "<tr>\n",
       "  <th>const</th>       <td>  -2.6e+05</td> <td> 9918.526</td> <td>  -26.211</td> <td> 0.000</td> <td>-2.79e+05</td> <td>-2.41e+05</td>\n",
       "</tr>\n",
       "<tr>\n",
       "  <th>sqft_living</th> <td>   97.3450</td> <td>    2.557</td> <td>   38.068</td> <td> 0.000</td> <td>   92.333</td> <td>  102.357</td>\n",
       "</tr>\n",
       "<tr>\n",
       "  <th>bathrooms</th>   <td>-1.986e+04</td> <td> 2493.891</td> <td>   -7.964</td> <td> 0.000</td> <td>-2.48e+04</td> <td> -1.5e+04</td>\n",
       "</tr>\n",
       "<tr>\n",
       "  <th>grade</th>       <td> 7.707e+04</td> <td> 1687.040</td> <td>   45.685</td> <td> 0.000</td> <td> 7.38e+04</td> <td> 8.04e+04</td>\n",
       "</tr>\n",
       "</table>\n",
       "<table class=\"simpletable\">\n",
       "<tr>\n",
       "  <th>Omnibus:</th>       <td>605.736</td> <th>  Durbin-Watson:     </th> <td>   1.992</td> \n",
       "</tr>\n",
       "<tr>\n",
       "  <th>Prob(Omnibus):</th> <td> 0.000</td>  <th>  Jarque-Bera (JB):  </th> <td> 679.989</td> \n",
       "</tr>\n",
       "<tr>\n",
       "  <th>Skew:</th>          <td> 0.512</td>  <th>  Prob(JB):          </th> <td>2.20e-148</td>\n",
       "</tr>\n",
       "<tr>\n",
       "  <th>Kurtosis:</th>      <td> 3.186</td>  <th>  Cond. No.          </th> <td>1.77e+04</td> \n",
       "</tr>\n",
       "</table><br/><br/>Notes:<br/>[1] Standard Errors assume that the covariance matrix of the errors is correctly specified.<br/>[2] The condition number is large, 1.77e+04. This might indicate that there are<br/>strong multicollinearity or other numerical problems."
      ],
      "text/plain": [
       "<class 'statsmodels.iolib.summary.Summary'>\n",
       "\"\"\"\n",
       "                            OLS Regression Results                            \n",
       "==============================================================================\n",
       "Dep. Variable:                  price   R-squared:                       0.442\n",
       "Model:                            OLS   Adj. R-squared:                  0.442\n",
       "Method:                 Least Squares   F-statistic:                     3975.\n",
       "Date:                Wed, 25 Aug 2021   Prob (F-statistic):               0.00\n",
       "Time:                        17:51:06   Log-Likelihood:            -2.0078e+05\n",
       "No. Observations:               15080   AIC:                         4.016e+05\n",
       "Df Residuals:                   15076   BIC:                         4.016e+05\n",
       "Df Model:                           3                                         \n",
       "Covariance Type:            nonrobust                                         \n",
       "===============================================================================\n",
       "                  coef    std err          t      P>|t|      [0.025      0.975]\n",
       "-------------------------------------------------------------------------------\n",
       "const         -2.6e+05   9918.526    -26.211      0.000   -2.79e+05   -2.41e+05\n",
       "sqft_living    97.3450      2.557     38.068      0.000      92.333     102.357\n",
       "bathrooms   -1.986e+04   2493.891     -7.964      0.000   -2.48e+04    -1.5e+04\n",
       "grade        7.707e+04   1687.040     45.685      0.000    7.38e+04    8.04e+04\n",
       "==============================================================================\n",
       "Omnibus:                      605.736   Durbin-Watson:                   1.992\n",
       "Prob(Omnibus):                  0.000   Jarque-Bera (JB):              679.989\n",
       "Skew:                           0.512   Prob(JB):                    2.20e-148\n",
       "Kurtosis:                       3.186   Cond. No.                     1.77e+04\n",
       "==============================================================================\n",
       "\n",
       "Notes:\n",
       "[1] Standard Errors assume that the covariance matrix of the errors is correctly specified.\n",
       "[2] The condition number is large, 1.77e+04. This might indicate that there are\n",
       "strong multicollinearity or other numerical problems.\n",
       "\"\"\""
      ]
     },
     "execution_count": 66,
     "metadata": {},
     "output_type": "execute_result"
    }
   ],
   "source": [
    "X = sm.add_constant(X_train[most_correlated_features])\n",
    "homoscedastic_sum = sm.OLS(y_train, X).fit()\n",
    "homoscedastic_sum.summary()"
   ]
  },
  {
   "cell_type": "code",
   "execution_count": 67,
   "metadata": {},
   "outputs": [
    {
     "name": "stderr",
     "output_type": "stream",
     "text": [
      "<ipython-input-67-eba3a043e81e>:4: UserWarning: Matplotlib is currently using module://ipykernel.pylab.backend_inline, which is a non-GUI backend, so cannot show the figure.\n",
      "  fig.show()\n"
     ]
    },
    {
     "data": {
      "image/png": "[encoded data removed]",
      "text/plain": [
       "<Figure size 432x288 with 1 Axes>"
      ]
     },
     "metadata": {
      "needs_background": "light"
     },
     "output_type": "display_data"
    }
   ],
   "source": [
    "residuals = homoscedastic_sum.resid\n",
    "fig = sm.graphics.qqplot(residuals, dist=stats.norm, \n",
    "                        line = '45', fit=True)\n",
    "fig.show()"
   ]
  }
 ],
 "metadata": {
  "kernelspec": {
   "display_name": "Python (learn-env)",
   "language": "python",
   "name": "learn-env"
  },
  "language_info": {
   "codemirror_mode": {
    "name": "ipython",
    "version": 3
   },
   "file_extension": ".py",
   "mimetype": "text/x-python",
   "name": "python",
   "nbconvert_exporter": "python",
   "pygments_lexer": "ipython3",
   "version": "3.8.5"
  },
  "toc": {
   "base_numbering": 1,
   "nav_menu": {},
   "number_sections": true,
   "sideBar": true,
   "skip_h1_title": false,
   "title_cell": "Table of Contents",
   "title_sidebar": "Contents",
   "toc_cell": false,
   "toc_position": {},
   "toc_section_display": true,
   "toc_window_display": false
  }
 },
 "nbformat": 4,
 "nbformat_minor": 4
}
